{
 "cells": [
  {
   "cell_type": "code",
   "execution_count": 1,
   "metadata": {},
   "outputs": [],
   "source": [
    "import time"
   ]
  },
  {
   "cell_type": "code",
   "execution_count": 2,
   "metadata": {},
   "outputs": [],
   "source": [
    "import mido"
   ]
  },
  {
   "cell_type": "code",
   "execution_count": 3,
   "metadata": {},
   "outputs": [],
   "source": [
    "from mido import Message"
   ]
  },
  {
   "cell_type": "code",
   "execution_count": 34,
   "metadata": {},
   "outputs": [],
   "source": [
    "msgs = [Message('note_on', note=n) for n in range(30, 100, 2)]"
   ]
  },
  {
   "cell_type": "code",
   "execution_count": 35,
   "metadata": {},
   "outputs": [],
   "source": [
    "outport = mido.open_output('virtual', virtual=True)"
   ]
  },
  {
   "cell_type": "code",
   "execution_count": 39,
   "metadata": {},
   "outputs": [],
   "source": [
    "for msg in msgs:\n",
    "    outport.send(msg)\n",
    "    time.sleep(.03)"
   ]
  },
  {
   "cell_type": "code",
   "execution_count": 142,
   "metadata": {},
   "outputs": [],
   "source": [
    "class Note:\n",
    "    def __init__(self, number=1, channel=0, velocity=64, time=0, length=1, root='C'):\n",
    "        self.number = number\n",
    "        self.channel = channel\n",
    "        self.note = self.convert_number_to_midi(self.number)\n",
    "        self.velocity = velocity\n",
    "        self.time = time\n",
    "        self.length = length\n",
    "    \n",
    "    @staticmethod\n",
    "    def convert_number_to_midi(num):\n",
    "        num = int(num)\n",
    "        temp_dict = {\n",
    "            1: 60,\n",
    "            2: 62,\n",
    "            3: 64,\n",
    "            4: 65,\n",
    "            5: 67,\n",
    "            6: 69,\n",
    "            7: 71,\n",
    "            8: 72,\n",
    "            9: 74\n",
    "        }\n",
    "        \n",
    "        return temp_dict.get(num)\n",
    "    \n",
    "    def return_msg(self):\n",
    "        return Message('note_on', note=self.note, velocity=self.velocity, time=self.time)"
   ]
  },
  {
   "cell_type": "code",
   "execution_count": 131,
   "metadata": {},
   "outputs": [],
   "source": [
    "class Melody:\n",
    "    def __init__(self, notes, outport, sleep=.2):\n",
    "        self.notes = notes\n",
    "        self.outport = outport\n",
    "        self.sleep = sleep\n",
    "        self.melody = self.convert_str_to_melody(self.notes)\n",
    "    \n",
    "    def convert_str_to_melody(self, notes):\n",
    "        return [Note(num).return_msg() for num in self.notes]\n",
    "        \n",
    "    def play(self):\n",
    "        for msg in self.melody:\n",
    "            self.outport.send(msg)\n",
    "            time.sleep(self.sleep)"
   ]
  },
  {
   "cell_type": "code",
   "execution_count": 132,
   "metadata": {},
   "outputs": [],
   "source": [
    "outport = mido.open_output('virtual', virtual=True)"
   ]
  },
  {
   "cell_type": "code",
   "execution_count": 143,
   "metadata": {},
   "outputs": [],
   "source": [
    "mary = '3212333'"
   ]
  },
  {
   "cell_type": "code",
   "execution_count": 144,
   "metadata": {},
   "outputs": [],
   "source": [
    "mary_melody = Melody(mary, outport)"
   ]
  },
  {
   "cell_type": "code",
   "execution_count": 145,
   "metadata": {},
   "outputs": [],
   "source": [
    "mary_melody.play()"
   ]
  },
  {
   "cell_type": "code",
   "execution_count": 146,
   "metadata": {},
   "outputs": [],
   "source": [
    "twinkle = '8885665599778'"
   ]
  },
  {
   "cell_type": "code",
   "execution_count": 147,
   "metadata": {},
   "outputs": [],
   "source": [
    "twinkle_melody = Melody(twinkle, outport)"
   ]
  },
  {
   "cell_type": "code",
   "execution_count": 148,
   "metadata": {},
   "outputs": [],
   "source": [
    "twinkle_melody.play()"
   ]
  },
  {
   "cell_type": "code",
   "execution_count": null,
   "metadata": {},
   "outputs": [],
   "source": []
  }
 ],
 "metadata": {
  "kernelspec": {
   "display_name": "Python 3",
   "language": "python",
   "name": "python3"
  },
  "language_info": {
   "codemirror_mode": {
    "name": "ipython",
    "version": 3
   },
   "file_extension": ".py",
   "mimetype": "text/x-python",
   "name": "python",
   "nbconvert_exporter": "python",
   "pygments_lexer": "ipython3",
   "version": "3.7.0"
  }
 },
 "nbformat": 4,
 "nbformat_minor": 2
}
